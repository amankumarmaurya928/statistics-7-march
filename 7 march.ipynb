{
 "cells": [
  {
   "cell_type": "code",
   "execution_count": 1,
   "id": "3f0422d2-0b6b-4d44-b63c-a1fd15c0fe6c",
   "metadata": {},
   "outputs": [
    {
     "data": {
      "text/plain": [
       "'The three measures of central tendency:\\n1. Mean()\\n2. Median()\\n3. Mode()\\n'"
      ]
     },
     "execution_count": 1,
     "metadata": {},
     "output_type": "execute_result"
    }
   ],
   "source": [
    "# Q1\n",
    "'''The three measures of central tendency:\n",
    "1. Mean()\n",
    "2. Median()\n",
    "3. Mode()\n",
    "'''"
   ]
  },
  {
   "cell_type": "code",
   "execution_count": 2,
   "id": "16c24b22-ce6a-45d8-a05e-620f54fa09e2",
   "metadata": {},
   "outputs": [
    {
     "data": {
      "text/plain": [
       "'the difference between the mean, median, and mode:\\nMean is the average of a given data set,\\nMedian is the middlemost data value and \\nThe mode represents the most frequently occurring data value in the set.\\n\\n\\nA measure of central tendency (also referred to as measures of centre or central location) is a summary measure that\\nattempts to describe a whole set of data with a single value that represents the middle or centre of its distribution.\\nThere are three main measures of central tendency:\\n\\nmode\\nmedian\\nmean\\nEach of these measures describes a different indication of the typical or central value in the distribution.\\n'"
      ]
     },
     "execution_count": 2,
     "metadata": {},
     "output_type": "execute_result"
    }
   ],
   "source": [
    "# Q2\n",
    "'''the difference between the mean, median, and mode:\n",
    "Mean is the average of a given data set,\n",
    "Median is the middlemost data value and \n",
    "The mode represents the most frequently occurring data value in the set.\n",
    "\n",
    "\n",
    "A measure of central tendency (also referred to as measures of centre or central location) is a summary measure that\n",
    "attempts to describe a whole set of data with a single value that represents the middle or centre of its distribution.\n",
    "There are three main measures of central tendency:\n",
    "\n",
    "mode\n",
    "median\n",
    "mean\n",
    "Each of these measures describes a different indication of the typical or central value in the distribution.\n",
    "'''"
   ]
  },
  {
   "cell_type": "code",
   "execution_count": 3,
   "id": "e1da3791-c5f2-4842-bf70-a7fb540293cb",
   "metadata": {},
   "outputs": [
    {
     "name": "stdout",
     "output_type": "stream",
     "text": [
      "mean 0    177.01875\n",
      "dtype: float64\n",
      "median 0    177.0\n",
      "dtype: float64\n",
      "mode        0\n",
      "0  177.0\n",
      "1  178.0\n"
     ]
    }
   ],
   "source": [
    "# Q3\n",
    "'the three measures of central tendency for the given height data:'\n",
    "a = [178,177,176,177,178.2,178,175,179,180,175,178.9,176.2,177,172.5,178,176.5]\n",
    "import pandas as pd\n",
    "a1 = pd.DataFrame(a)\n",
    "print(\"mean\",a1.mean())\n",
    "print(\"median\",a1.median())\n",
    "print(\"mode\",a1.mode())"
   ]
  },
  {
   "cell_type": "code",
   "execution_count": 4,
   "id": "0ae2b6ef-f70c-440a-b71c-3cdccec42309",
   "metadata": {},
   "outputs": [
    {
     "name": "stdout",
     "output_type": "stream",
     "text": [
      "standard deviation 0    1.847239\n",
      "dtype: float64\n"
     ]
    }
   ],
   "source": [
    "# Q4\n",
    "'the standard deviation for the given data:'\n",
    "b = [178,177,176,177,178.2,178,175,179,180,175,178.9,176.2,177,172.5,178,176.5]\n",
    "import pandas as pd\n",
    "b1 = pd.DataFrame(b)\n",
    "print(\"standard deviation\",b1.std())"
   ]
  },
  {
   "cell_type": "code",
   "execution_count": 5,
   "id": "46511f30-56b7-49d9-8b7b-1e6741f2052e",
   "metadata": {},
   "outputs": [
    {
     "data": {
      "text/plain": [
       "'Standard deviation (SD) is the most commonly used measure of dispersion.\\n   It is a measure of spread of data about the mean.\\n   SD is the square root of sum of squared deviation from the mean divided by the number of observations.\\n   This formula is a definitional one and for calculations, an easier formula is used.\\n   \\n   SD = (sum of all(x-mean of x)^2/(n-1))^1/2\\n  \\n   his formula is a definitional one and for calculations, an easier formula is used. \\n   '"
      ]
     },
     "execution_count": 5,
     "metadata": {},
     "output_type": "execute_result"
    }
   ],
   "source": [
    "# Q5\n",
    "'''Standard deviation (SD) is the most commonly used measure of dispersion.\n",
    "   It is a measure of spread of data about the mean.\n",
    "   SD is the square root of sum of squared deviation from the mean divided by the number of observations.\n",
    "   This formula is a definitional one and for calculations, an easier formula is used.\n",
    "   \n",
    "   SD = (sum of all(x-mean of x)^2/(n-1))^1/2\n",
    "  \n",
    "   his formula is a definitional one and for calculations, an easier formula is used. \n",
    "   '''"
   ]
  },
  {
   "cell_type": "code",
   "execution_count": 6,
   "id": "32288821-8f53-4a4f-b12e-9c1707f1921b",
   "metadata": {},
   "outputs": [
    {
     "data": {
      "text/plain": [
       "'A Venn diagram is an illustration that uses circles to show the relationships among things or finite groups of things\\n'"
      ]
     },
     "execution_count": 6,
     "metadata": {},
     "output_type": "execute_result"
    }
   ],
   "source": [
    "# Q6\n",
    "'''A Venn diagram is an illustration that uses circles to show the relationships among things or finite groups of things\n",
    "'''"
   ]
  },
  {
   "cell_type": "code",
   "execution_count": 7,
   "id": "6c7407d9-4493-4c07-896a-fa5815157199",
   "metadata": {},
   "outputs": [
    {
     "data": {
      "text/plain": [
       "'sets A = (2,3,4,5,6,7) & B = (0,2,6,8,10). Find:\\n(i) A ⋂ B\\n(ii) A ⋃ B\\n\\n(i) A ⋂ B = (2,6)\\n(ii) A ⋃ B = (0,2,3,4,5,6,7,8,10)'"
      ]
     },
     "execution_count": 7,
     "metadata": {},
     "output_type": "execute_result"
    }
   ],
   "source": [
    "# Q7\n",
    "'''sets A = (2,3,4,5,6,7) & B = (0,2,6,8,10). Find:\n",
    "(i) A ⋂ B\n",
    "(ii) A ⋃ B\n",
    "\n",
    "(i) A ⋂ B = (2,6)\n",
    "(ii) A ⋃ B = (0,2,3,4,5,6,7,8,10)'''"
   ]
  },
  {
   "cell_type": "code",
   "execution_count": 8,
   "id": "c1b70ef0-7a17-42b9-93b2-2e1e5d5cb400",
   "metadata": {},
   "outputs": [
    {
     "data": {
      "text/plain": [
       "'Skewness is a measurement of the distortion of symmetrical distribution or asymmetry in a data set. \\n   Skewness is demonstrated on a bell curve when data points are not distributed symmetrically to the left \\n   and right sides of the median on a bell curve.\\n   '"
      ]
     },
     "execution_count": 8,
     "metadata": {},
     "output_type": "execute_result"
    }
   ],
   "source": [
    "# Q8\n",
    "'''Skewness is a measurement of the distortion of symmetrical distribution or asymmetry in a data set. \n",
    "   Skewness is demonstrated on a bell curve when data points are not distributed symmetrically to the left \n",
    "   and right sides of the median on a bell curve.\n",
    "   '''"
   ]
  },
  {
   "cell_type": "code",
   "execution_count": 9,
   "id": "bdd943e0-0011-4a55-b2d3-4df09ec84262",
   "metadata": {},
   "outputs": [
    {
     "data": {
      "text/plain": [
       "'the distribution of data is skewed to the left, the mean is often less than the median.\\nWhen the distribution is skewed to the right, the mean is often greater than the median.\\n'"
      ]
     },
     "execution_count": 9,
     "metadata": {},
     "output_type": "execute_result"
    }
   ],
   "source": [
    "# Q9\n",
    "'''the distribution of data is skewed to the left, the mean is often less than the median.\n",
    "When the distribution is skewed to the right, the mean is often greater than the median.\n",
    "'''"
   ]
  },
  {
   "cell_type": "code",
   "execution_count": 10,
   "id": "30c65d70-e006-46a2-9b80-d9084db2b9e0",
   "metadata": {},
   "outputs": [
    {
     "data": {
      "text/plain": [
       "'Correlation matrix:-\\nA correlation matrix can be defined as a matrix with correlation coefficients among different variables. \\nThe connection between the two variables is represented by each cell in the table. \\nA correlation matrix can be used to summarise data, as an input to a more advanced analysis,\\nor as a diagnostic for further studies.\\nThe formula for correlation is:\\n\\ncorrelation(x,y) = cov(x,y)/((var(x))^1/2)*((var(y))^1/2)\\n\\nwhere,\\n\\nvar(X) = standard deviation of X\\n\\nvar(Y) = standard deviation of Y\\n'"
      ]
     },
     "execution_count": 10,
     "metadata": {},
     "output_type": "execute_result"
    }
   ],
   "source": [
    "# Q10\n",
    "'''Covariance matrix:-\n",
    "A covariance matrix is a square matrix that illustrates the variance of dataset elements and the covariance between two datasets.\n",
    "Variance is a measure of dispersion defined as data spread from the provided dataset's mean.\n",
    "Covariance between two variables is calculated and used to measure how the two variables fluctuate together.\n",
    "\n",
    "Let Σ(X) and Σ(Y) be the expected values of the variables, the covariance formula can be represented as:\n",
    "\n",
    "covariacnce(x,y) = i/n(sum of all(n,i-1)(xi - mean of x)(yi - mean of y))\n",
    "\n",
    "Where,\n",
    "\n",
    "xi = data value of x\n",
    "yi = data value of y\n",
    "x̄ = mean of x\n",
    "ȳ = mean of y\n",
    "N = number of data values.\n",
    "'''\n",
    "\n",
    "'''Correlation matrix:-\n",
    "A correlation matrix can be defined as a matrix with correlation coefficients among different variables. \n",
    "The connection between the two variables is represented by each cell in the table. \n",
    "A correlation matrix can be used to summarise data, as an input to a more advanced analysis,\n",
    "or as a diagnostic for further studies.\n",
    "The formula for correlation is:\n",
    "\n",
    "correlation(x,y) = cov(x,y)/((var(x))^1/2)*((var(y))^1/2)\n",
    "\n",
    "where,\n",
    "\n",
    "var(X) = standard deviation of X\n",
    "\n",
    "var(Y) = standard deviation of Y\n",
    "'''"
   ]
  },
  {
   "cell_type": "code",
   "execution_count": 11,
   "id": "7c7ee615-3a10-4459-b650-58f2cfb47a09",
   "metadata": {},
   "outputs": [
    {
     "data": {
      "text/plain": [
       "'\\nExample\\nFind the sample mean of 60, 57, 109, 50.\\n\\nSolution: \\nSum of terms = 60 + 57 + 109 + 50 = 276\\nNumber of terms, n = 4\\nUsing sample mean formula,\\nmean = (sum of terms)/(number of terms)\\nmean = 276/4 = 69\\n'"
      ]
     },
     "execution_count": 11,
     "metadata": {},
     "output_type": "execute_result"
    }
   ],
   "source": [
    "# Q11\n",
    "'''The general formula for calculating the sample mean is given by\n",
    "\n",
    "x̄ = ( Σ xi ) / n.\n",
    "\n",
    "Here, x̄ represents the sample mean, xi refers all X sample values and \n",
    "n stands for the number of sample terms in the data set.'''\n",
    "'''\n",
    "Example\n",
    "Find the sample mean of 60, 57, 109, 50.\n",
    "\n",
    "Solution: \n",
    "Sum of terms = 60 + 57 + 109 + 50 = 276\n",
    "Number of terms, n = 4\n",
    "Using sample mean formula,\n",
    "mean = (sum of terms)/(number of terms)\n",
    "mean = 276/4 = 69\n",
    "'''"
   ]
  },
  {
   "cell_type": "code",
   "execution_count": 12,
   "id": "1812285d-66c5-4d45-8b5b-d499893301e7",
   "metadata": {},
   "outputs": [
    {
     "data": {
      "text/plain": [
       "'Any normal distribution has a graph that is perfectly symmetric about a vertical line through its peak.\\nTherefore, all measures of central tendency (most commonly, the mean, median, and mode) give the same answer:\\nthe x -value of the peak.\\n'"
      ]
     },
     "execution_count": 12,
     "metadata": {},
     "output_type": "execute_result"
    }
   ],
   "source": [
    "# Q12\n",
    "'''Any normal distribution has a graph that is perfectly symmetric about a vertical line through its peak.\n",
    "Therefore, all measures of central tendency (most commonly, the mean, median, and mode) give the same answer:\n",
    "the x -value of the peak.\n",
    "'''"
   ]
  },
  {
   "cell_type": "code",
   "execution_count": 13,
   "id": "a44ef032-ccf1-4e95-af28-0452baf3f56b",
   "metadata": {},
   "outputs": [
    {
     "data": {
      "text/plain": [
       "'Covariance and correlation are two terms that are opposed and are both used in statistics and regression analysis.\\nCovariance shows you how the two variables differ, whereas correlation shows you how the two variables are related.'"
      ]
     },
     "execution_count": 13,
     "metadata": {},
     "output_type": "execute_result"
    }
   ],
   "source": [
    "# Q13\n",
    "'''Covariance and correlation are two terms that are opposed and are both used in statistics and regression analysis.\n",
    "Covariance shows you how the two variables differ, whereas correlation shows you how the two variables are related.'''"
   ]
  },
  {
   "cell_type": "code",
   "execution_count": 14,
   "id": "dabcb03b-0da8-42bb-87dc-349ca88ba023",
   "metadata": {},
   "outputs": [
    {
     "data": {
      "text/plain": [
       "'Outliers are numbers in a data set that are vastly larger or smaller than the other values in the set.\\nMean, median and mode are measures of central tendency.\\nMean is the only measure of central tendency that is always affected by an outlier.\\nMean, the average, is the most popular measure of central tendency.\\n \\nExample: A student receives a zero on a quiz and subsequently\\nhas the following scores:\\n0, 70, 70, 80, 85, 90, 90, 90, 95, 100\\nOutlier: 0\\n'"
      ]
     },
     "execution_count": 14,
     "metadata": {},
     "output_type": "execute_result"
    }
   ],
   "source": [
    "# Q14\n",
    "'''Outliers are numbers in a data set that are vastly larger or smaller than the other values in the set.\n",
    "Mean, median and mode are measures of central tendency.\n",
    "Mean is the only measure of central tendency that is always affected by an outlier.\n",
    "Mean, the average, is the most popular measure of central tendency.\n",
    " \n",
    "Example: A student receives a zero on a quiz and subsequently\n",
    "has the following scores:\n",
    "0, 70, 70, 80, 85, 90, 90, 90, 95, 100\n",
    "Outlier: 0\n",
    "'''"
   ]
  },
  {
   "cell_type": "code",
   "execution_count": null,
   "id": "63aefb9b-4a16-42b5-8b28-4293eafde72e",
   "metadata": {},
   "outputs": [],
   "source": []
  }
 ],
 "metadata": {
  "kernelspec": {
   "display_name": "Python 3 (ipykernel)",
   "language": "python",
   "name": "python3"
  },
  "language_info": {
   "codemirror_mode": {
    "name": "ipython",
    "version": 3
   },
   "file_extension": ".py",
   "mimetype": "text/x-python",
   "name": "python",
   "nbconvert_exporter": "python",
   "pygments_lexer": "ipython3",
   "version": "3.10.8"
  }
 },
 "nbformat": 4,
 "nbformat_minor": 5
}
